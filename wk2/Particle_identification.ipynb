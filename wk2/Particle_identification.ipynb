{
  "nbformat": 4,
  "nbformat_minor": 0,
  "metadata": {
    "kernelspec": {
      "display_name": "Python 3",
      "language": "python",
      "name": "python3"
    },
    "language_info": {
      "codemirror_mode": {
        "name": "ipython",
        "version": 3
      },
      "file_extension": ".py",
      "mimetype": "text/x-python",
      "name": "python",
      "nbconvert_exporter": "python",
      "pygments_lexer": "ipython3",
      "version": "3.6.1"
    },
    "colab": {
      "name": "Particle_identification.ipynb",
      "provenance": [],
      "collapsed_sections": [
        "DdQlesuHMfRN",
        "BMHf81ITMfRg",
        "XrzKXgkaMfRq",
        "om9AknhkMfSJ",
        "SI5XeuvJMfSz"
      ]
    },
    "accelerator": "GPU"
  },
  "cells": [
    {
      "cell_type": "markdown",
      "metadata": {
        "id": "RYUgTZihMfQr",
        "colab_type": "text"
      },
      "source": [
        "# About\n",
        "\n",
        "In this programming assignment you will train a classifier to identify type of a particle. There are six particle types: electron, proton, muon, kaon, pion and ghost. Ghost is a particle with other type than the first five or a detector noise. \n",
        "\n",
        "Different particle types remain different responses in the detector systems or subdetectors. Thre are five systems: tracking system, ring imaging Cherenkov detector (RICH), electromagnetic and hadron calorimeters, and muon system.\n",
        "\n",
        "![pid](pic/pid.jpg)\n",
        "\n",
        "You task is to identify a particle type using the responses in the detector systems. \n",
        "\n",
        "# Attention\n",
        "\n",
        "Data files you should download from https://github.com/hse-aml/hadron-collider-machine-learning/releases/tag/Week_2"
      ]
    },
    {
      "cell_type": "code",
      "metadata": {
        "id": "QaaaG1U2OP4r",
        "colab_type": "code",
        "colab": {}
      },
      "source": [
        "import sys, os\n",
        "if 'google.colab' in sys.modules: #and not os.path.exists('.setup_complete'):\n",
        "    !wget -q https://raw.githubusercontent.com/hse-aml/hadron-collider-machine-learning/master/week2/utils.py -O utils.py\n",
        "    !touch .setup_complete"
      ],
      "execution_count": null,
      "outputs": []
    },
    {
      "cell_type": "code",
      "metadata": {
        "id": "6hfMcStLPakY",
        "colab_type": "code",
        "colab": {
          "base_uri": "https://localhost:8080/",
          "height": 84
        },
        "outputId": "35664299-089b-4cbf-b45b-c55fdb87cb7e"
      },
      "source": [
        "!ls -lrt"
      ],
      "execution_count": null,
      "outputs": [
        {
          "output_type": "stream",
          "text": [
            "total 16\n",
            "drwxr-xr-x 1 root root 4096 Jun 26 16:26 sample_data\n",
            "drwxr-xr-x 2 root root 4096 Jul  3 19:53 __pycache__\n",
            "-rw-r--r-- 1 root root 7634 Jul  3 20:03 utils.py\n"
          ],
          "name": "stdout"
        }
      ]
    },
    {
      "cell_type": "code",
      "metadata": {
        "id": "64-9dBgfRvSX",
        "colab_type": "code",
        "colab": {}
      },
      "source": [
        "import os\n",
        "from pydrive.auth import GoogleAuth\n",
        "from pydrive.drive import GoogleDrive\n",
        "from google.colab import auth\n",
        "from oauth2client.client import GoogleCredentials\n",
        " \n",
        "auth.authenticate_user()\n",
        "gauth = GoogleAuth()\n",
        "gauth.credentials = GoogleCredentials.get_application_default()\n",
        "drive = GoogleDrive(gauth)"
      ],
      "execution_count": null,
      "outputs": []
    },
    {
      "cell_type": "code",
      "metadata": {
        "id": "Kb2M7pNWR1dn",
        "colab_type": "code",
        "colab": {}
      },
      "source": [
        "local_download_path = os.path.expanduser('~/data')\n",
        "try:\n",
        "  os.makedirs(local_download_path)\n",
        "except: pass\n",
        " \n",
        "file_list = drive.ListFile(\n",
        "    {'q': \"'' in parents\"}).GetList()"
      ],
      "execution_count": null,
      "outputs": []
    },
    {
      "cell_type": "code",
      "metadata": {
        "id": "8ImpL_2mWXgE",
        "colab_type": "code",
        "colab": {
          "base_uri": "https://localhost:8080/",
          "height": 84
        },
        "outputId": "d2c87b68-1733-42fb-ca96-1e835f08a33d"
      },
      "source": [
        "for f in file_list:\n",
        "  print('title: %s, id: %s' % (f['title'], f['id']))\n",
        "  fname = os.path.join(local_download_path, f['title'])\n",
        "  print('downloading to {}'.format(fname))\n",
        "  f_ = drive.CreateFile({'id': f['id']})\n",
        "  f_.GetContentFile(fname)"
      ],
      "execution_count": null,
      "outputs": [
        {
          "output_type": "stream",
          "text": [
            "title: training.csv.gz, id: 1j5hvZD0MpFvCqXW12-SLLjCtkIYeRqoe\n",
            "downloading to /root/data/training.csv.gz\n",
            "title: test.csv.gz, id: 1Qvt_SO7n-tbgVvlTVzzHWhAoCxF2eg6S\n",
            "downloading to /root/data/test.csv.gz\n"
          ],
          "name": "stdout"
        }
      ]
    },
    {
      "cell_type": "code",
      "metadata": {
        "id": "WUqRsteaMfQt",
        "colab_type": "code",
        "colab": {}
      },
      "source": [
        "%matplotlib inline\n",
        "import matplotlib.pyplot as plt\n",
        "import pandas\n",
        "import numpy\n",
        "from sklearn.model_selection import train_test_split\n",
        "from sklearn.metrics import log_loss\n",
        "import utils"
      ],
      "execution_count": null,
      "outputs": []
    },
    {
      "cell_type": "markdown",
      "metadata": {
        "id": "7G7FaiBEMfQ0",
        "colab_type": "text"
      },
      "source": [
        "# Download data\n",
        "\n",
        "Download data used to train classifiers."
      ]
    },
    {
      "cell_type": "markdown",
      "metadata": {
        "id": "pJuCFWgiMfQ2",
        "colab_type": "text"
      },
      "source": [
        "### Read training file"
      ]
    },
    {
      "cell_type": "code",
      "metadata": {
        "id": "drz4Ho3eMfQ3",
        "colab_type": "code",
        "colab": {}
      },
      "source": [
        "data = pandas.read_csv('/root/data/training.csv.gz')"
      ],
      "execution_count": null,
      "outputs": []
    },
    {
      "cell_type": "code",
      "metadata": {
        "id": "b8itycHvMfQ_",
        "colab_type": "code",
        "colab": {
          "base_uri": "https://localhost:8080/",
          "height": 215
        },
        "outputId": "8ffefaf7-d24d-4f9b-8870-4f59624527f9"
      },
      "source": [
        "data.head()"
      ],
      "execution_count": null,
      "outputs": [
        {
          "output_type": "execute_result",
          "data": {
            "text/html": [
              "<div>\n",
              "<style scoped>\n",
              "    .dataframe tbody tr th:only-of-type {\n",
              "        vertical-align: middle;\n",
              "    }\n",
              "\n",
              "    .dataframe tbody tr th {\n",
              "        vertical-align: top;\n",
              "    }\n",
              "\n",
              "    .dataframe thead th {\n",
              "        text-align: right;\n",
              "    }\n",
              "</style>\n",
              "<table border=\"1\" class=\"dataframe\">\n",
              "  <thead>\n",
              "    <tr style=\"text-align: right;\">\n",
              "      <th></th>\n",
              "      <th>TrackP</th>\n",
              "      <th>TrackNDoFSubdetector2</th>\n",
              "      <th>BremDLLbeElectron</th>\n",
              "      <th>MuonLooseFlag</th>\n",
              "      <th>FlagSpd</th>\n",
              "      <th>SpdE</th>\n",
              "      <th>EcalDLLbeElectron</th>\n",
              "      <th>DLLmuon</th>\n",
              "      <th>RICHpFlagElectron</th>\n",
              "      <th>EcalDLLbeMuon</th>\n",
              "      <th>TrackQualitySubdetector2</th>\n",
              "      <th>FlagPrs</th>\n",
              "      <th>DLLelectron</th>\n",
              "      <th>DLLkaon</th>\n",
              "      <th>EcalE</th>\n",
              "      <th>TrackQualityPerNDoF</th>\n",
              "      <th>DLLproton</th>\n",
              "      <th>PrsDLLbeElectron</th>\n",
              "      <th>FlagRICH1</th>\n",
              "      <th>MuonLLbeBCK</th>\n",
              "      <th>FlagHcal</th>\n",
              "      <th>EcalShowerLongitudinalParameter</th>\n",
              "      <th>Calo2dFitQuality</th>\n",
              "      <th>TrackPt</th>\n",
              "      <th>TrackDistanceToZ</th>\n",
              "      <th>RICHpFlagPion</th>\n",
              "      <th>HcalDLLbeElectron</th>\n",
              "      <th>Calo3dFitQuality</th>\n",
              "      <th>FlagEcal</th>\n",
              "      <th>MuonLLbeMuon</th>\n",
              "      <th>TrackNDoFSubdetector1</th>\n",
              "      <th>RICHpFlagProton</th>\n",
              "      <th>RICHpFlagKaon</th>\n",
              "      <th>GhostProbability</th>\n",
              "      <th>TrackQualitySubdetector1</th>\n",
              "      <th>Label</th>\n",
              "      <th>RICH_DLLbeBCK</th>\n",
              "      <th>FlagRICH2</th>\n",
              "      <th>FlagBrem</th>\n",
              "      <th>HcalDLLbeMuon</th>\n",
              "      <th>TrackNDoF</th>\n",
              "      <th>RICHpFlagMuon</th>\n",
              "      <th>RICH_DLLbeKaon</th>\n",
              "      <th>RICH_DLLbeElectron</th>\n",
              "      <th>HcalE</th>\n",
              "      <th>MuonFlag</th>\n",
              "      <th>FlagMuon</th>\n",
              "      <th>PrsE</th>\n",
              "      <th>RICH_DLLbeMuon</th>\n",
              "      <th>RICH_DLLbeProton</th>\n",
              "    </tr>\n",
              "  </thead>\n",
              "  <tbody>\n",
              "    <tr>\n",
              "      <th>0</th>\n",
              "      <td>74791.156263</td>\n",
              "      <td>15.0</td>\n",
              "      <td>0.232275</td>\n",
              "      <td>1.0</td>\n",
              "      <td>1.0</td>\n",
              "      <td>3.2</td>\n",
              "      <td>-2.505719</td>\n",
              "      <td>6.604153</td>\n",
              "      <td>1.0</td>\n",
              "      <td>1.929960</td>\n",
              "      <td>17.585680</td>\n",
              "      <td>1.0</td>\n",
              "      <td>-6.411697</td>\n",
              "      <td>-7.213295</td>\n",
              "      <td>0.000001</td>\n",
              "      <td>1.467550</td>\n",
              "      <td>-26.667494</td>\n",
              "      <td>-2.730674</td>\n",
              "      <td>1.0</td>\n",
              "      <td>-5.152923</td>\n",
              "      <td>1.0</td>\n",
              "      <td>-999.000000</td>\n",
              "      <td>19.954819</td>\n",
              "      <td>3141.930677</td>\n",
              "      <td>0.613640</td>\n",
              "      <td>1.0</td>\n",
              "      <td>-0.909544</td>\n",
              "      <td>-999.000000</td>\n",
              "      <td>1.0</td>\n",
              "      <td>-0.661823</td>\n",
              "      <td>4.0</td>\n",
              "      <td>1.0</td>\n",
              "      <td>1.0</td>\n",
              "      <td>0.018913</td>\n",
              "      <td>5.366212</td>\n",
              "      <td>Muon</td>\n",
              "      <td>-21.913000</td>\n",
              "      <td>1.0</td>\n",
              "      <td>1.0</td>\n",
              "      <td>1.015345</td>\n",
              "      <td>28.0</td>\n",
              "      <td>1.0</td>\n",
              "      <td>-7.213300</td>\n",
              "      <td>-0.280200</td>\n",
              "      <td>5586.589846</td>\n",
              "      <td>1.0</td>\n",
              "      <td>1.0</td>\n",
              "      <td>10.422315</td>\n",
              "      <td>-2.081143e-07</td>\n",
              "      <td>-24.824400</td>\n",
              "    </tr>\n",
              "    <tr>\n",
              "      <th>1</th>\n",
              "      <td>2738.489989</td>\n",
              "      <td>15.0</td>\n",
              "      <td>-0.357748</td>\n",
              "      <td>0.0</td>\n",
              "      <td>1.0</td>\n",
              "      <td>3.2</td>\n",
              "      <td>1.864351</td>\n",
              "      <td>0.263651</td>\n",
              "      <td>1.0</td>\n",
              "      <td>-2.061959</td>\n",
              "      <td>20.230680</td>\n",
              "      <td>1.0</td>\n",
              "      <td>5.453014</td>\n",
              "      <td>0.000006</td>\n",
              "      <td>1531.542000</td>\n",
              "      <td>3.570540</td>\n",
              "      <td>-0.711194</td>\n",
              "      <td>1.773806</td>\n",
              "      <td>1.0</td>\n",
              "      <td>-999.000000</td>\n",
              "      <td>0.0</td>\n",
              "      <td>33.187644</td>\n",
              "      <td>0.037601</td>\n",
              "      <td>199.573653</td>\n",
              "      <td>0.465480</td>\n",
              "      <td>1.0</td>\n",
              "      <td>0.434909</td>\n",
              "      <td>13.667366</td>\n",
              "      <td>1.0</td>\n",
              "      <td>-999.000000</td>\n",
              "      <td>10.0</td>\n",
              "      <td>0.0</td>\n",
              "      <td>0.0</td>\n",
              "      <td>0.351206</td>\n",
              "      <td>9.144749</td>\n",
              "      <td>Ghost</td>\n",
              "      <td>-0.703617</td>\n",
              "      <td>0.0</td>\n",
              "      <td>1.0</td>\n",
              "      <td>-2.394644</td>\n",
              "      <td>32.0</td>\n",
              "      <td>1.0</td>\n",
              "      <td>-0.324317</td>\n",
              "      <td>1.707283</td>\n",
              "      <td>-0.000007</td>\n",
              "      <td>0.0</td>\n",
              "      <td>1.0</td>\n",
              "      <td>43.334935</td>\n",
              "      <td>2.771583e+00</td>\n",
              "      <td>-0.648017</td>\n",
              "    </tr>\n",
              "    <tr>\n",
              "      <th>2</th>\n",
              "      <td>2161.409908</td>\n",
              "      <td>17.0</td>\n",
              "      <td>-999.000000</td>\n",
              "      <td>0.0</td>\n",
              "      <td>0.0</td>\n",
              "      <td>-999.0</td>\n",
              "      <td>-999.000000</td>\n",
              "      <td>-999.000000</td>\n",
              "      <td>0.0</td>\n",
              "      <td>-999.000000</td>\n",
              "      <td>11.619878</td>\n",
              "      <td>0.0</td>\n",
              "      <td>-999.000000</td>\n",
              "      <td>-999.000000</td>\n",
              "      <td>-999.000000</td>\n",
              "      <td>0.826442</td>\n",
              "      <td>-999.000000</td>\n",
              "      <td>-999.000000</td>\n",
              "      <td>0.0</td>\n",
              "      <td>-999.000000</td>\n",
              "      <td>0.0</td>\n",
              "      <td>-999.000000</td>\n",
              "      <td>-999.000000</td>\n",
              "      <td>94.829418</td>\n",
              "      <td>0.241891</td>\n",
              "      <td>0.0</td>\n",
              "      <td>-999.000000</td>\n",
              "      <td>-999.000000</td>\n",
              "      <td>0.0</td>\n",
              "      <td>-999.000000</td>\n",
              "      <td>5.0</td>\n",
              "      <td>0.0</td>\n",
              "      <td>0.0</td>\n",
              "      <td>0.195717</td>\n",
              "      <td>1.459992</td>\n",
              "      <td>Ghost</td>\n",
              "      <td>-999.000000</td>\n",
              "      <td>0.0</td>\n",
              "      <td>0.0</td>\n",
              "      <td>-999.000000</td>\n",
              "      <td>27.0</td>\n",
              "      <td>0.0</td>\n",
              "      <td>-999.000000</td>\n",
              "      <td>-999.000000</td>\n",
              "      <td>-999.000000</td>\n",
              "      <td>0.0</td>\n",
              "      <td>0.0</td>\n",
              "      <td>-999.000000</td>\n",
              "      <td>-9.990000e+02</td>\n",
              "      <td>-999.000000</td>\n",
              "    </tr>\n",
              "    <tr>\n",
              "      <th>3</th>\n",
              "      <td>15277.730490</td>\n",
              "      <td>20.0</td>\n",
              "      <td>-0.638984</td>\n",
              "      <td>0.0</td>\n",
              "      <td>1.0</td>\n",
              "      <td>3.2</td>\n",
              "      <td>-2.533918</td>\n",
              "      <td>-8.724949</td>\n",
              "      <td>1.0</td>\n",
              "      <td>-3.253981</td>\n",
              "      <td>15.336305</td>\n",
              "      <td>1.0</td>\n",
              "      <td>-10.616585</td>\n",
              "      <td>-39.447507</td>\n",
              "      <td>4385.688000</td>\n",
              "      <td>1.076721</td>\n",
              "      <td>-29.291509</td>\n",
              "      <td>-3.053104</td>\n",
              "      <td>1.0</td>\n",
              "      <td>-999.000000</td>\n",
              "      <td>1.0</td>\n",
              "      <td>231.190351</td>\n",
              "      <td>2.839508</td>\n",
              "      <td>808.631064</td>\n",
              "      <td>0.680705</td>\n",
              "      <td>1.0</td>\n",
              "      <td>-1.504160</td>\n",
              "      <td>1939.259641</td>\n",
              "      <td>1.0</td>\n",
              "      <td>-999.000000</td>\n",
              "      <td>9.0</td>\n",
              "      <td>0.0</td>\n",
              "      <td>1.0</td>\n",
              "      <td>0.003972</td>\n",
              "      <td>22.950573</td>\n",
              "      <td>Pion</td>\n",
              "      <td>-47.223118</td>\n",
              "      <td>1.0</td>\n",
              "      <td>1.0</td>\n",
              "      <td>-0.321242</td>\n",
              "      <td>36.0</td>\n",
              "      <td>1.0</td>\n",
              "      <td>-35.202221</td>\n",
              "      <td>-14.742319</td>\n",
              "      <td>4482.803707</td>\n",
              "      <td>0.0</td>\n",
              "      <td>1.0</td>\n",
              "      <td>2.194175</td>\n",
              "      <td>-3.070819e+00</td>\n",
              "      <td>-29.291519</td>\n",
              "    </tr>\n",
              "    <tr>\n",
              "      <th>4</th>\n",
              "      <td>7563.700195</td>\n",
              "      <td>19.0</td>\n",
              "      <td>-0.638962</td>\n",
              "      <td>0.0</td>\n",
              "      <td>1.0</td>\n",
              "      <td>3.2</td>\n",
              "      <td>-2.087146</td>\n",
              "      <td>-7.060422</td>\n",
              "      <td>1.0</td>\n",
              "      <td>-0.995816</td>\n",
              "      <td>10.954629</td>\n",
              "      <td>1.0</td>\n",
              "      <td>-8.144945</td>\n",
              "      <td>26.050386</td>\n",
              "      <td>1220.930044</td>\n",
              "      <td>0.439767</td>\n",
              "      <td>21.386587</td>\n",
              "      <td>-2.730648</td>\n",
              "      <td>1.0</td>\n",
              "      <td>-999.000000</td>\n",
              "      <td>1.0</td>\n",
              "      <td>-794.866475</td>\n",
              "      <td>1.209193</td>\n",
              "      <td>1422.569214</td>\n",
              "      <td>0.575066</td>\n",
              "      <td>1.0</td>\n",
              "      <td>-1.576249</td>\n",
              "      <td>1867.165142</td>\n",
              "      <td>1.0</td>\n",
              "      <td>-999.000000</td>\n",
              "      <td>5.0</td>\n",
              "      <td>0.0</td>\n",
              "      <td>0.0</td>\n",
              "      <td>0.015232</td>\n",
              "      <td>3.516173</td>\n",
              "      <td>Proton</td>\n",
              "      <td>15.304688</td>\n",
              "      <td>0.0</td>\n",
              "      <td>1.0</td>\n",
              "      <td>-1.038026</td>\n",
              "      <td>33.0</td>\n",
              "      <td>1.0</td>\n",
              "      <td>25.084287</td>\n",
              "      <td>-10.272412</td>\n",
              "      <td>5107.554680</td>\n",
              "      <td>0.0</td>\n",
              "      <td>1.0</td>\n",
              "      <td>0.000015</td>\n",
              "      <td>-5.373712e+00</td>\n",
              "      <td>23.653087</td>\n",
              "    </tr>\n",
              "  </tbody>\n",
              "</table>\n",
              "</div>"
            ],
            "text/plain": [
              "         TrackP  TrackNDoFSubdetector2  ...  RICH_DLLbeMuon  RICH_DLLbeProton\n",
              "0  74791.156263                   15.0  ...   -2.081143e-07        -24.824400\n",
              "1   2738.489989                   15.0  ...    2.771583e+00         -0.648017\n",
              "2   2161.409908                   17.0  ...   -9.990000e+02       -999.000000\n",
              "3  15277.730490                   20.0  ...   -3.070819e+00        -29.291519\n",
              "4   7563.700195                   19.0  ...   -5.373712e+00         23.653087\n",
              "\n",
              "[5 rows x 50 columns]"
            ]
          },
          "metadata": {
            "tags": []
          },
          "execution_count": 27
        }
      ]
    },
    {
      "cell_type": "markdown",
      "metadata": {
        "id": "I7Oy8N0AMfRG",
        "colab_type": "text"
      },
      "source": [
        "### List of columns in the samples"
      ]
    },
    {
      "cell_type": "markdown",
      "metadata": {
        "id": "rf9vhFQjMfRH",
        "colab_type": "text"
      },
      "source": [
        "Here, **Spd** stands for Scintillating Pad Detector, **Prs** - Preshower, **Ecal** - electromagnetic calorimeter, **Hcal** - hadronic calorimeter, **Brem** denotes traces of the particles that were deflected by detector."
      ]
    },
    {
      "cell_type": "markdown",
      "metadata": {
        "id": "22AqSE6jMfRJ",
        "colab_type": "text"
      },
      "source": [
        "- ID - id value for tracks (presents only in the test file for the submitting purposes)\n",
        "- Label - string valued observable denoting particle types. Can take values \"Electron\", \"Muon\", \"Kaon\", \"Proton\", \"Pion\" and \"Ghost\". This column is absent in the test file.\n",
        "- FlagSpd - flag (0 or 1), if reconstructed track passes through Spd\n",
        "- FlagPrs - flag (0 or 1), if reconstructed track passes through Prs\n",
        "- FlagBrem - flag (0 or 1), if reconstructed track passes through Brem\n",
        "- FlagEcal - flag (0 or 1), if reconstructed track passes through Ecal\n",
        "- FlagHcal - flag (0 or 1), if reconstructed track passes through Hcal\n",
        "- FlagRICH1 - flag (0 or 1), if reconstructed track passes through the first RICH detector\n",
        "- FlagRICH2 - flag (0 or 1), if reconstructed track passes through the second RICH detector\n",
        "- FlagMuon - flag (0 or 1), if reconstructed track passes through muon stations (Muon)\n",
        "- SpdE - energy deposit associated to the track in the Spd\n",
        "- PrsE - energy deposit associated to the track in the Prs\n",
        "- EcalE - energy deposit associated to the track in the Hcal\n",
        "- HcalE - energy deposit associated to the track in the Hcal\n",
        "- PrsDLLbeElectron - delta log-likelihood for a particle candidate to be electron using information from Prs\n",
        "- BremDLLbeElectron - delta log-likelihood for a particle candidate to be electron using information from Brem\n",
        "- TrackP - particle momentum\n",
        "- TrackPt - particle transverse momentum\n",
        "- TrackNDoFSubdetector1  - number of degrees of freedom for track fit using hits in the tracking sub-detector1\n",
        "- TrackQualitySubdetector1 - chi2 quality of the track fit using hits in the tracking sub-detector1\n",
        "- TrackNDoFSubdetector2 - number of degrees of freedom for track fit using hits in the tracking sub-detector2\n",
        "- TrackQualitySubdetector2 - chi2 quality of the track fit using hits in the  tracking sub-detector2\n",
        "- TrackNDoF - number of degrees of freedom for track fit using hits in all tracking sub-detectors\n",
        "- TrackQualityPerNDoF - chi2 quality of the track fit per degree of freedom\n",
        "- TrackDistanceToZ - distance between track and z-axis (beam axis)\n",
        "- Calo2dFitQuality - quality of the 2d fit of the clusters in the calorimeter \n",
        "- Calo3dFitQuality - quality of the 3d fit in the calorimeter with assumption that particle was electron\n",
        "- EcalDLLbeElectron - delta log-likelihood for a particle candidate to be electron using information from Ecal\n",
        "- EcalDLLbeMuon - delta log-likelihood for a particle candidate to be muon using information from Ecal\n",
        "- EcalShowerLongitudinalParameter - longitudinal parameter of Ecal shower\n",
        "- HcalDLLbeElectron - delta log-likelihood for a particle candidate to be electron using information from Hcal\n",
        "- HcalDLLbeMuon - delta log-likelihood for a particle candidate to be using information from Hcal\n",
        "- RICHpFlagElectron - flag (0 or 1) if momentum is greater than threshold for electrons to produce Cherenkov light\n",
        "- RICHpFlagProton - flag (0 or 1) if momentum is greater than threshold for protons to produce Cherenkov light\n",
        "- RICHpFlagPion - flag (0 or 1) if momentum is greater than threshold for pions to produce Cherenkov light\n",
        "- RICHpFlagKaon - flag (0 or 1) if momentum is greater than threshold for kaons to produce Cherenkov light\n",
        "- RICHpFlagMuon - flag (0 or 1) if momentum is greater than threshold for muons to produce Cherenkov light\n",
        "- RICH_DLLbeBCK  - delta log-likelihood for a particle candidate to be background using information from RICH\n",
        "- RICH_DLLbeKaon - delta log-likelihood for a particle candidate to be kaon using information from RICH\n",
        "- RICH_DLLbeElectron - delta log-likelihood for a particle candidate to be electron using information from RICH\n",
        "- RICH_DLLbeMuon - delta log-likelihood for a particle candidate to be muon using information from RICH\n",
        "- RICH_DLLbeProton - delta log-likelihood for a particle candidate to be proton using information from RICH\n",
        "- MuonFlag - muon flag (is this track muon) which is determined from muon stations\n",
        "- MuonLooseFlag muon flag (is this track muon) which is determined from muon stations using looser criteria\n",
        "- MuonLLbeBCK - log-likelihood for a particle candidate to be not muon using information from muon stations\n",
        "- MuonLLbeMuon - log-likelihood for a particle candidate to be muon using information from muon stations\n",
        "- DLLelectron - delta log-likelihood for a particle candidate to be electron using information from all subdetectors\n",
        "- DLLmuon - delta log-likelihood for a particle candidate to be muon using information from all subdetectors\n",
        "- DLLkaon - delta log-likelihood for a particle candidate to be kaon using information from all subdetectors\n",
        "- DLLproton - delta log-likelihood for a particle candidate to be proton using information from all subdetectors\n",
        "- GhostProbability - probability for a particle candidate to be ghost track. This variable is an output of classification model used in the tracking algorithm."
      ]
    },
    {
      "cell_type": "markdown",
      "metadata": {
        "id": "tsLcyxiGMfRL",
        "colab_type": "text"
      },
      "source": [
        "Delta log-likelihood in the features descriptions means the difference between log-likelihood for the mass hypothesis that a given track is left by some particle (for example, electron) and log-likelihood for the mass hypothesis that a given track is left by a pion (so, DLLpion = 0 and thus we don't have these columns). This is done since most tracks (~80%) are left by pions and in practice we actually need to discriminate other particles from pions. In other words, the null hypothesis is that particle is a pion."
      ]
    },
    {
      "cell_type": "markdown",
      "metadata": {
        "id": "DdQlesuHMfRN",
        "colab_type": "text"
      },
      "source": [
        "### Look at the labels set\n",
        "\n",
        "The training data contains six classes. Each class corresponds to a particle type. Your task is to predict type of a particle."
      ]
    },
    {
      "cell_type": "code",
      "metadata": {
        "id": "TuJCT2ISMfRP",
        "colab_type": "code",
        "colab": {
          "base_uri": "https://localhost:8080/",
          "height": 34
        },
        "outputId": "8d123df7-caf6-4eb0-9963-f872fd08d589"
      },
      "source": [
        "set(data.Label)"
      ],
      "execution_count": null,
      "outputs": [
        {
          "output_type": "execute_result",
          "data": {
            "text/plain": [
              "{'Electron', 'Ghost', 'Kaon', 'Muon', 'Pion', 'Proton'}"
            ]
          },
          "metadata": {
            "tags": []
          },
          "execution_count": 28
        }
      ]
    },
    {
      "cell_type": "markdown",
      "metadata": {
        "id": "HdQLBC6DMfRX",
        "colab_type": "text"
      },
      "source": [
        "Convert the particle types into class numbers."
      ]
    },
    {
      "cell_type": "code",
      "metadata": {
        "id": "dmvqo5qIMfRY",
        "colab_type": "code",
        "colab": {
          "base_uri": "https://localhost:8080/",
          "height": 34
        },
        "outputId": "8111034e-74a9-4d78-fb68-5d655a1e38f4"
      },
      "source": [
        "data['Class'] = utils.get_class_ids(data.Label.values)\n",
        "set(data.Class)"
      ],
      "execution_count": null,
      "outputs": [
        {
          "output_type": "execute_result",
          "data": {
            "text/plain": [
              "{0, 1, 2, 3, 4, 5}"
            ]
          },
          "metadata": {
            "tags": []
          },
          "execution_count": 29
        }
      ]
    },
    {
      "cell_type": "markdown",
      "metadata": {
        "id": "BMHf81ITMfRg",
        "colab_type": "text"
      },
      "source": [
        "### Define training features\n",
        "\n",
        "The following set of features describe particle responses in the detector systems:\n",
        "\n",
        "![features](pic/features.jpeg)\n",
        "\n",
        "Also there are several combined features. The full list is following."
      ]
    },
    {
      "cell_type": "code",
      "metadata": {
        "id": "nuzBEBqVMfRi",
        "colab_type": "code",
        "colab": {
          "base_uri": "https://localhost:8080/",
          "height": 840
        },
        "outputId": "bb20dfff-a1fd-4529-8d45-fd399a4795d7"
      },
      "source": [
        "features = list(set(data.columns) - {'Label', 'Class'})\n",
        "features"
      ],
      "execution_count": null,
      "outputs": [
        {
          "output_type": "execute_result",
          "data": {
            "text/plain": [
              "['HcalDLLbeMuon',\n",
              " 'GhostProbability',\n",
              " 'RICHpFlagElectron',\n",
              " 'FlagBrem',\n",
              " 'FlagPrs',\n",
              " 'EcalE',\n",
              " 'RICH_DLLbeElectron',\n",
              " 'MuonFlag',\n",
              " 'TrackNDoF',\n",
              " 'Calo2dFitQuality',\n",
              " 'PrsDLLbeElectron',\n",
              " 'MuonLooseFlag',\n",
              " 'TrackPt',\n",
              " 'RICHpFlagPion',\n",
              " 'FlagEcal',\n",
              " 'TrackNDoFSubdetector1',\n",
              " 'RICH_DLLbeMuon',\n",
              " 'HcalDLLbeElectron',\n",
              " 'RICHpFlagKaon',\n",
              " 'PrsE',\n",
              " 'EcalDLLbeMuon',\n",
              " 'DLLproton',\n",
              " 'TrackDistanceToZ',\n",
              " 'DLLelectron',\n",
              " 'MuonLLbeBCK',\n",
              " 'RICH_DLLbeProton',\n",
              " 'BremDLLbeElectron',\n",
              " 'TrackP',\n",
              " 'RICH_DLLbeKaon',\n",
              " 'TrackQualitySubdetector2',\n",
              " 'FlagHcal',\n",
              " 'RICHpFlagProton',\n",
              " 'DLLmuon',\n",
              " 'EcalDLLbeElectron',\n",
              " 'TrackQualityPerNDoF',\n",
              " 'FlagRICH1',\n",
              " 'Calo3dFitQuality',\n",
              " 'FlagSpd',\n",
              " 'SpdE',\n",
              " 'HcalE',\n",
              " 'TrackQualitySubdetector1',\n",
              " 'RICH_DLLbeBCK',\n",
              " 'FlagMuon',\n",
              " 'MuonLLbeMuon',\n",
              " 'DLLkaon',\n",
              " 'EcalShowerLongitudinalParameter',\n",
              " 'FlagRICH2',\n",
              " 'RICHpFlagMuon',\n",
              " 'TrackNDoFSubdetector2']"
            ]
          },
          "metadata": {
            "tags": []
          },
          "execution_count": 30
        }
      ]
    },
    {
      "cell_type": "markdown",
      "metadata": {
        "id": "XrzKXgkaMfRq",
        "colab_type": "text"
      },
      "source": [
        "### Divide training data into 2 parts"
      ]
    },
    {
      "cell_type": "code",
      "metadata": {
        "id": "tCSUEeBTMfRr",
        "colab_type": "code",
        "colab": {}
      },
      "source": [
        "training_data, validation_data = train_test_split(data, random_state=11, train_size=0.90)"
      ],
      "execution_count": null,
      "outputs": []
    },
    {
      "cell_type": "code",
      "metadata": {
        "id": "mRRhqQ1MMfRz",
        "colab_type": "code",
        "colab": {
          "base_uri": "https://localhost:8080/",
          "height": 34
        },
        "outputId": "9a42e8af-204f-425a-f718-8148cf6edd89"
      },
      "source": [
        "len(training_data), len(validation_data)"
      ],
      "execution_count": null,
      "outputs": [
        {
          "output_type": "execute_result",
          "data": {
            "text/plain": [
              "(1080000, 120000)"
            ]
          },
          "metadata": {
            "tags": []
          },
          "execution_count": 32
        }
      ]
    },
    {
      "cell_type": "markdown",
      "metadata": {
        "id": "sHEeDAUFMfR6",
        "colab_type": "text"
      },
      "source": [
        "# Sklearn classifier\n",
        "\n",
        "On this step your task is to train **Sklearn** classifier to provide lower **log loss** value.\n",
        "\n",
        "\n",
        "TASK: your task is to tune the classifier parameters to achieve the lowest **log loss** value on the validation sample you can."
      ]
    },
    {
      "cell_type": "code",
      "metadata": {
        "id": "dmSQ8UbsXY6h",
        "colab_type": "code",
        "colab": {}
      },
      "source": [
        "from sklearn.preprocessing import StandardScaler\n",
        "scaler = StandardScaler()\n",
        "training_scale = scaler.fit_transform(training_data[features].values)"
      ],
      "execution_count": null,
      "outputs": []
    },
    {
      "cell_type": "code",
      "metadata": {
        "id": "iX0r88fuXcR6",
        "colab_type": "code",
        "colab": {}
      },
      "source": [
        "validation_scale = scaler.transform(validation_data[features].values)"
      ],
      "execution_count": null,
      "outputs": []
    },
    {
      "cell_type": "code",
      "metadata": {
        "id": "bPBAnU7CMfR7",
        "colab_type": "code",
        "colab": {}
      },
      "source": [
        "from sklearn.ensemble import GradientBoostingClassifier"
      ],
      "execution_count": null,
      "outputs": []
    },
    {
      "cell_type": "code",
      "metadata": {
        "id": "LlAZ7BaEMfSC",
        "colab_type": "code",
        "colab": {
          "base_uri": "https://localhost:8080/",
          "height": 50
        },
        "outputId": "4e9e2a2c-d006-48f6-9dc9-ee9d3fa278f7"
      },
      "source": [
        "%%time \n",
        "gb = GradientBoostingClassifier(learning_rate=0.1, n_estimators=50, subsample=0.8, random_state=13,\n",
        "                                min_samples_leaf=1, max_depth=3)\n",
        "gb.fit(training_scale, training_data.Class.values)"
      ],
      "execution_count": null,
      "outputs": [
        {
          "output_type": "stream",
          "text": [
            "CPU times: user 54min 56s, sys: 762 ms, total: 54min 57s\n",
            "Wall time: 54min 58s\n"
          ],
          "name": "stdout"
        }
      ]
    },
    {
      "cell_type": "markdown",
      "metadata": {
        "id": "om9AknhkMfSJ",
        "colab_type": "text"
      },
      "source": [
        "### Log loss on the cross validation sample"
      ]
    },
    {
      "cell_type": "code",
      "metadata": {
        "id": "OksK-HAaMfSL",
        "colab_type": "code",
        "colab": {}
      },
      "source": [
        "# predict each track\n",
        "proba_gb = gb.predict_proba(validation_scale)"
      ],
      "execution_count": null,
      "outputs": []
    },
    {
      "cell_type": "code",
      "metadata": {
        "id": "F82IPF76MfSS",
        "colab_type": "code",
        "colab": {
          "base_uri": "https://localhost:8080/",
          "height": 34
        },
        "outputId": "d0ea4758-821d-40be-ee46-fb646762a8bc"
      },
      "source": [
        "log_loss(validation_data.Class.values, proba_gb)"
      ],
      "execution_count": null,
      "outputs": [
        {
          "output_type": "execute_result",
          "data": {
            "text/plain": [
              "0.6669050174940361"
            ]
          },
          "metadata": {
            "tags": []
          },
          "execution_count": 38
        }
      ]
    },
    {
      "cell_type": "markdown",
      "metadata": {
        "id": "lAjY3brnMfSY",
        "colab_type": "text"
      },
      "source": [
        "# Keras neural network\n",
        "\n",
        "On this step your task is to train **Keras** NN classifier to provide lower **log loss** value.\n",
        "\n",
        "\n",
        "TASK: your task is to tune the classifier parameters to achieve the lowest **log loss** value on the validation sample you can. Data preprocessing may help you to improve your score."
      ]
    },
    {
      "cell_type": "code",
      "metadata": {
        "id": "N72803dZMfSa",
        "colab_type": "code",
        "colab": {}
      },
      "source": [
        "from keras.layers.core import Dense, Activation\n",
        "from keras.models import Sequential\n",
        "from keras.optimizers import Adam\n",
        "from keras.utils import np_utils\n",
        "from keras.callbacks import EarlyStopping, ModelCheckpoint"
      ],
      "execution_count": null,
      "outputs": []
    },
    {
      "cell_type": "code",
      "metadata": {
        "id": "tSFwoc0_MfSj",
        "colab_type": "code",
        "colab": {}
      },
      "source": [
        "def nn_model(input_dim):\n",
        "    model = Sequential()\n",
        "    model.add(Dense(100, input_dim=input_dim))\n",
        "    model.add(Activation('relu'))\n",
        "    \n",
        "    model.add(Dense(50))\n",
        "    model.add(Activation('relu'))\n",
        "\n",
        "    model.add(Dense(6))\n",
        "    model.add(Activation('softmax'))\n",
        "\n",
        "    model.compile(loss='categorical_crossentropy', optimizer=Adam())\n",
        "    return model"
      ],
      "execution_count": null,
      "outputs": []
    },
    {
      "cell_type": "code",
      "metadata": {
        "id": "fYB3eNgTMfSr",
        "colab_type": "code",
        "colab": {}
      },
      "source": [
        "callback = [EarlyStopping(monitor='val_loss', min_delta=0, patience=4, verbose=0, mode='auto'),\n",
        "            ModelCheckpoint('/root/data/{val_loss:.4f}.hdf5', monitor='val_loss', verbose=1, save_best_only=True, mode='auto')]"
      ],
      "execution_count": null,
      "outputs": []
    },
    {
      "cell_type": "code",
      "metadata": {
        "id": "OJwnmHrPk8Ii",
        "colab_type": "code",
        "colab": {
          "base_uri": "https://localhost:8080/",
          "height": 1000
        },
        "outputId": "fbebb50c-720d-4a07-db60-604c678ea889"
      },
      "source": [
        "nn = nn_model(len(features))\n",
        "nn.fit(training_scale, np_utils.to_categorical(training_data.Class.values),\n",
        "       validation_data=(validation_scale, np_utils.to_categorical(validation_data.Class.values)),\n",
        "       epochs=50, verbose=1, batch_size=256, callbacks=callback)"
      ],
      "execution_count": null,
      "outputs": [
        {
          "output_type": "stream",
          "text": [
            "Train on 1080000 samples, validate on 120000 samples\n",
            "Epoch 1/50\n",
            "1080000/1080000 [==============================] - 12s 11us/step - loss: 0.7016 - val_loss: 0.6240\n",
            "\n",
            "Epoch 00001: val_loss improved from inf to 0.62404, saving model to /root/data/0.6240.hdf5\n",
            "Epoch 2/50\n",
            "1080000/1080000 [==============================] - 12s 11us/step - loss: 0.6171 - val_loss: 0.6106\n",
            "\n",
            "Epoch 00002: val_loss improved from 0.62404 to 0.61062, saving model to /root/data/0.6106.hdf5\n",
            "Epoch 3/50\n",
            "1080000/1080000 [==============================] - 12s 11us/step - loss: 0.6044 - val_loss: 0.5983\n",
            "\n",
            "Epoch 00003: val_loss improved from 0.61062 to 0.59834, saving model to /root/data/0.5983.hdf5\n",
            "Epoch 4/50\n",
            "1080000/1080000 [==============================] - 12s 11us/step - loss: 0.5974 - val_loss: 0.5921\n",
            "\n",
            "Epoch 00004: val_loss improved from 0.59834 to 0.59215, saving model to /root/data/0.5921.hdf5\n",
            "Epoch 5/50\n",
            "1080000/1080000 [==============================] - 12s 11us/step - loss: 0.5925 - val_loss: 0.5927\n",
            "\n",
            "Epoch 00005: val_loss did not improve from 0.59215\n",
            "Epoch 6/50\n",
            "1080000/1080000 [==============================] - 13s 12us/step - loss: 0.5885 - val_loss: 0.5882\n",
            "\n",
            "Epoch 00006: val_loss improved from 0.59215 to 0.58821, saving model to /root/data/0.5882.hdf5\n",
            "Epoch 7/50\n",
            "1080000/1080000 [==============================] - 12s 11us/step - loss: 0.5858 - val_loss: 0.5850\n",
            "\n",
            "Epoch 00007: val_loss improved from 0.58821 to 0.58500, saving model to /root/data/0.5850.hdf5\n",
            "Epoch 8/50\n",
            "1080000/1080000 [==============================] - 12s 11us/step - loss: 0.5830 - val_loss: 0.5834\n",
            "\n",
            "Epoch 00008: val_loss improved from 0.58500 to 0.58344, saving model to /root/data/0.5834.hdf5\n",
            "Epoch 9/50\n",
            "1080000/1080000 [==============================] - 12s 11us/step - loss: 0.5811 - val_loss: 0.5837\n",
            "\n",
            "Epoch 00009: val_loss did not improve from 0.58344\n",
            "Epoch 10/50\n",
            "1080000/1080000 [==============================] - 12s 11us/step - loss: 0.5791 - val_loss: 0.5774\n",
            "\n",
            "Epoch 00010: val_loss improved from 0.58344 to 0.57736, saving model to /root/data/0.5774.hdf5\n",
            "Epoch 11/50\n",
            "1080000/1080000 [==============================] - 12s 11us/step - loss: 0.5776 - val_loss: 0.5759\n",
            "\n",
            "Epoch 00011: val_loss improved from 0.57736 to 0.57595, saving model to /root/data/0.5759.hdf5\n",
            "Epoch 12/50\n",
            "1080000/1080000 [==============================] - 12s 11us/step - loss: 0.5758 - val_loss: 0.5787\n",
            "\n",
            "Epoch 00012: val_loss did not improve from 0.57595\n",
            "Epoch 13/50\n",
            "1080000/1080000 [==============================] - 12s 11us/step - loss: 0.5745 - val_loss: 0.5783\n",
            "\n",
            "Epoch 00013: val_loss did not improve from 0.57595\n",
            "Epoch 14/50\n",
            "1080000/1080000 [==============================] - 12s 11us/step - loss: 0.5734 - val_loss: 0.5759\n",
            "\n",
            "Epoch 00014: val_loss improved from 0.57595 to 0.57589, saving model to /root/data/0.5759.hdf5\n",
            "Epoch 15/50\n",
            "1080000/1080000 [==============================] - 12s 11us/step - loss: 0.5725 - val_loss: 0.5755\n",
            "\n",
            "Epoch 00015: val_loss improved from 0.57589 to 0.57549, saving model to /root/data/0.5755.hdf5\n",
            "Epoch 16/50\n",
            "1080000/1080000 [==============================] - 12s 11us/step - loss: 0.5713 - val_loss: 0.5745\n",
            "\n",
            "Epoch 00016: val_loss improved from 0.57549 to 0.57447, saving model to /root/data/0.5745.hdf5\n",
            "Epoch 17/50\n",
            "1080000/1080000 [==============================] - 12s 11us/step - loss: 0.5706 - val_loss: 0.5733\n",
            "\n",
            "Epoch 00017: val_loss improved from 0.57447 to 0.57330, saving model to /root/data/0.5733.hdf5\n",
            "Epoch 18/50\n",
            "1080000/1080000 [==============================] - 12s 11us/step - loss: 0.5697 - val_loss: 0.5755\n",
            "\n",
            "Epoch 00018: val_loss did not improve from 0.57330\n",
            "Epoch 19/50\n",
            "1080000/1080000 [==============================] - 12s 11us/step - loss: 0.5690 - val_loss: 0.5722\n",
            "\n",
            "Epoch 00019: val_loss improved from 0.57330 to 0.57215, saving model to /root/data/0.5722.hdf5\n",
            "Epoch 20/50\n",
            "1080000/1080000 [==============================] - 12s 11us/step - loss: 0.5686 - val_loss: 0.5747\n",
            "\n",
            "Epoch 00020: val_loss did not improve from 0.57215\n",
            "Epoch 21/50\n",
            "1080000/1080000 [==============================] - 12s 11us/step - loss: 0.5678 - val_loss: 0.5709\n",
            "\n",
            "Epoch 00021: val_loss improved from 0.57215 to 0.57085, saving model to /root/data/0.5709.hdf5\n",
            "Epoch 22/50\n",
            "1080000/1080000 [==============================] - 12s 11us/step - loss: 0.5675 - val_loss: 0.5725\n",
            "\n",
            "Epoch 00022: val_loss did not improve from 0.57085\n",
            "Epoch 23/50\n",
            "1080000/1080000 [==============================] - 12s 11us/step - loss: 0.5667 - val_loss: 0.5769\n",
            "\n",
            "Epoch 00023: val_loss did not improve from 0.57085\n",
            "Epoch 24/50\n",
            "1080000/1080000 [==============================] - 12s 11us/step - loss: 0.5663 - val_loss: 0.5729\n",
            "\n",
            "Epoch 00024: val_loss did not improve from 0.57085\n",
            "Epoch 25/50\n",
            "1080000/1080000 [==============================] - 12s 11us/step - loss: 0.5659 - val_loss: 0.5680\n",
            "\n",
            "Epoch 00025: val_loss improved from 0.57085 to 0.56805, saving model to /root/data/0.5680.hdf5\n",
            "Epoch 26/50\n",
            "1080000/1080000 [==============================] - 12s 11us/step - loss: 0.5653 - val_loss: 0.5693\n",
            "\n",
            "Epoch 00026: val_loss did not improve from 0.56805\n",
            "Epoch 27/50\n",
            "1080000/1080000 [==============================] - 12s 11us/step - loss: 0.5650 - val_loss: 0.5678\n",
            "\n",
            "Epoch 00027: val_loss improved from 0.56805 to 0.56780, saving model to /root/data/0.5678.hdf5\n",
            "Epoch 28/50\n",
            "1080000/1080000 [==============================] - 12s 11us/step - loss: 0.5651 - val_loss: 0.5694\n",
            "\n",
            "Epoch 00028: val_loss did not improve from 0.56780\n",
            "Epoch 29/50\n",
            "1080000/1080000 [==============================] - 12s 11us/step - loss: 0.5642 - val_loss: 0.5692\n",
            "\n",
            "Epoch 00029: val_loss did not improve from 0.56780\n",
            "Epoch 30/50\n",
            "1080000/1080000 [==============================] - 12s 11us/step - loss: 0.5642 - val_loss: 0.5661\n",
            "\n",
            "Epoch 00030: val_loss improved from 0.56780 to 0.56606, saving model to /root/data/0.5661.hdf5\n",
            "Epoch 31/50\n",
            "1080000/1080000 [==============================] - 12s 11us/step - loss: 0.5636 - val_loss: 0.5660\n",
            "\n",
            "Epoch 00031: val_loss improved from 0.56606 to 0.56603, saving model to /root/data/0.5660.hdf5\n",
            "Epoch 32/50\n",
            "1080000/1080000 [==============================] - 13s 12us/step - loss: 0.5632 - val_loss: 0.5667\n",
            "\n",
            "Epoch 00032: val_loss did not improve from 0.56603\n",
            "Epoch 33/50\n",
            "1080000/1080000 [==============================] - 12s 11us/step - loss: 0.5631 - val_loss: 0.5658\n",
            "\n",
            "Epoch 00033: val_loss improved from 0.56603 to 0.56576, saving model to /root/data/0.5658.hdf5\n",
            "Epoch 34/50\n",
            "1080000/1080000 [==============================] - 12s 11us/step - loss: 0.5629 - val_loss: 0.5646\n",
            "\n",
            "Epoch 00034: val_loss improved from 0.56576 to 0.56457, saving model to /root/data/0.5646.hdf5\n",
            "Epoch 35/50\n",
            "1080000/1080000 [==============================] - 12s 11us/step - loss: 0.5624 - val_loss: 0.5650\n",
            "\n",
            "Epoch 00035: val_loss did not improve from 0.56457\n",
            "Epoch 36/50\n",
            "1080000/1080000 [==============================] - 12s 11us/step - loss: 0.5623 - val_loss: 0.5628\n",
            "\n",
            "Epoch 00036: val_loss improved from 0.56457 to 0.56282, saving model to /root/data/0.5628.hdf5\n",
            "Epoch 37/50\n",
            "1080000/1080000 [==============================] - 12s 11us/step - loss: 0.5619 - val_loss: 0.5661\n",
            "\n",
            "Epoch 00037: val_loss did not improve from 0.56282\n",
            "Epoch 38/50\n",
            "1080000/1080000 [==============================] - 12s 11us/step - loss: 0.5615 - val_loss: 0.5665\n",
            "\n",
            "Epoch 00038: val_loss did not improve from 0.56282\n",
            "Epoch 39/50\n",
            "1080000/1080000 [==============================] - 12s 11us/step - loss: 0.5613 - val_loss: 0.5654\n",
            "\n",
            "Epoch 00039: val_loss did not improve from 0.56282\n",
            "Epoch 40/50\n",
            "1080000/1080000 [==============================] - 12s 11us/step - loss: 0.5613 - val_loss: 0.5664\n",
            "\n",
            "Epoch 00040: val_loss did not improve from 0.56282\n"
          ],
          "name": "stdout"
        },
        {
          "output_type": "execute_result",
          "data": {
            "text/plain": [
              "<keras.callbacks.callbacks.History at 0x7f647846ff28>"
            ]
          },
          "metadata": {
            "tags": []
          },
          "execution_count": 46
        }
      ]
    },
    {
      "cell_type": "markdown",
      "metadata": {
        "id": "SI5XeuvJMfSz",
        "colab_type": "text"
      },
      "source": [
        "### Log loss on the cross validation sample"
      ]
    },
    {
      "cell_type": "code",
      "metadata": {
        "id": "58PFnvh3oN8Z",
        "colab_type": "code",
        "colab": {}
      },
      "source": [
        "nn.load_weights('/root/data/0.5628.hdf5')"
      ],
      "execution_count": null,
      "outputs": []
    },
    {
      "cell_type": "code",
      "metadata": {
        "id": "QAIRSF-5MfS0",
        "colab_type": "code",
        "colab": {}
      },
      "source": [
        "# predict each track\n",
        "proba_nn = nn.predict_proba(validation_scale)"
      ],
      "execution_count": null,
      "outputs": []
    },
    {
      "cell_type": "code",
      "metadata": {
        "id": "P-KYXpUrMfS7",
        "colab_type": "code",
        "colab": {
          "base_uri": "https://localhost:8080/",
          "height": 34
        },
        "outputId": "10aba29d-05d9-460e-8b12-6a84d286074b"
      },
      "source": [
        "log_loss(validation_data.Class.values, proba_nn)"
      ],
      "execution_count": null,
      "outputs": [
        {
          "output_type": "execute_result",
          "data": {
            "text/plain": [
              "0.5628224612215559"
            ]
          },
          "metadata": {
            "tags": []
          },
          "execution_count": 51
        }
      ]
    },
    {
      "cell_type": "markdown",
      "metadata": {
        "id": "PZSAZjkAMfTA",
        "colab_type": "text"
      },
      "source": [
        "# Quality metrics\n",
        "\n",
        "Plot ROC curves and signal efficiency dependece from particle mometum and transverse momentum values."
      ]
    },
    {
      "cell_type": "code",
      "metadata": {
        "id": "HwgB-7WgMfTB",
        "colab_type": "code",
        "colab": {}
      },
      "source": [
        "proba = proba_gb"
      ],
      "execution_count": null,
      "outputs": []
    },
    {
      "cell_type": "code",
      "metadata": {
        "id": "eRgb-cDmMfTH",
        "colab_type": "code",
        "colab": {
          "base_uri": "https://localhost:8080/",
          "height": 416
        },
        "outputId": "897baebf-bfa3-43fc-a5e0-afb51aa29919"
      },
      "source": [
        "utils.plot_roc_curves(proba, validation_data.Class.values)"
      ],
      "execution_count": null,
      "outputs": [
        {
          "output_type": "display_data",
          "data": {
            "image/png": "[encoded data removed]",
            "text/plain": [
              "<Figure size 648x432 with 1 Axes>"
            ]
          },
          "metadata": {
            "tags": [],
            "needs_background": "light"
          }
        }
      ]
    },
    {
      "cell_type": "code",
      "metadata": {
        "id": "_tz_pPfuMfTM",
        "colab_type": "code",
        "colab": {
          "base_uri": "https://localhost:8080/",
          "height": 765
        },
        "outputId": "7ac98b06-4ae6-4ad2-f4e9-a63d038b9ab5"
      },
      "source": [
        "utils.plot_signal_efficiency_on_p(proba, validation_data.Class.values, validation_data.TrackP.values, 60, 50)\n",
        "plt.show()"
      ],
      "execution_count": null,
      "outputs": [
        {
          "output_type": "display_data",
          "data": {
            "image/png": "[encoded data removed]",
            "text/plain": [
              "<Figure size 792x756 with 6 Axes>"
            ]
          },
          "metadata": {
            "tags": [],
            "needs_background": "light"
          }
        }
      ]
    },
    {
      "cell_type": "code",
      "metadata": {
        "id": "cmQ_xeWFMfTT",
        "colab_type": "code",
        "colab": {
          "base_uri": "https://localhost:8080/",
          "height": 765
        },
        "outputId": "17bc1bc4-c6ac-43c4-e2ec-453e18db9e7d"
      },
      "source": [
        "utils.plot_signal_efficiency_on_pt(proba, validation_data.Class.values, validation_data.TrackPt.values, 60, 50)\n",
        "plt.show()"
      ],
      "execution_count": null,
      "outputs": [
        {
          "output_type": "display_data",
          "data": {
            "image/png": "[encoded data removed]",
            "text/plain": [
              "<Figure size 792x756 with 6 Axes>"
            ]
          },
          "metadata": {
            "tags": [],
            "needs_background": "light"
          }
        }
      ]
    },
    {
      "cell_type": "markdown",
      "metadata": {
        "id": "aUcDAt8OMfTY",
        "colab_type": "text"
      },
      "source": [
        "# Prepare submission\n",
        "\n",
        "Select your best classifier and prepare submission file."
      ]
    },
    {
      "cell_type": "code",
      "metadata": {
        "id": "1STzST03MfTZ",
        "colab_type": "code",
        "colab": {}
      },
      "source": [
        "test = pandas.read_csv('/root/data/test.csv.gz')"
      ],
      "execution_count": null,
      "outputs": []
    },
    {
      "cell_type": "code",
      "metadata": {
        "id": "3RUQqaDXMfTf",
        "colab_type": "code",
        "colab": {}
      },
      "source": [
        "best_model = nn"
      ],
      "execution_count": null,
      "outputs": []
    },
    {
      "cell_type": "code",
      "metadata": {
        "id": "cYuXWnG-pbu8",
        "colab_type": "code",
        "colab": {}
      },
      "source": [
        "test_scale = scaler.transform(test[features])"
      ],
      "execution_count": null,
      "outputs": []
    },
    {
      "cell_type": "code",
      "metadata": {
        "id": "2OI2GTL8MfTn",
        "colab_type": "code",
        "colab": {}
      },
      "source": [
        "# predict test sample\n",
        "submit_proba = best_model.predict_proba(test_scale)\n",
        "submit_ids = test.ID"
      ],
      "execution_count": null,
      "outputs": []
    },
    {
      "cell_type": "code",
      "metadata": {
        "id": "BcwAttZ1MfTs",
        "colab_type": "code",
        "colab": {
          "base_uri": "https://localhost:8080/",
          "height": 34
        },
        "outputId": "947ce3a9-a40e-4b8f-ced0-e2446e6db4bb"
      },
      "source": [
        "from IPython.display import FileLink\n",
        "utils.create_solution(submit_ids, submit_proba, filename='submission_file.csv.gz')"
      ],
      "execution_count": null,
      "outputs": [
        {
          "output_type": "execute_result",
          "data": {
            "text/html": [
              "<a href='submission_file.csv.gz' target='_blank'>submission_file.csv.gz</a><br>"
            ],
            "text/plain": [
              "/content/submission_file.csv.gz"
            ]
          },
          "metadata": {
            "tags": []
          },
          "execution_count": 60
        }
      ]
    },
    {
      "cell_type": "code",
      "metadata": {
        "id": "0SVM9y4qpohR",
        "colab_type": "code",
        "colab": {
          "base_uri": "https://localhost:8080/",
          "height": 34
        },
        "outputId": "4642806d-f5d6-44f3-e8b8-75052cf13ad6"
      },
      "source": [
        "!ls"
      ],
      "execution_count": null,
      "outputs": [
        {
          "output_type": "stream",
          "text": [
            "adc.json  __pycache__  sample_data  submission_file.csv.gz  utils.py\n"
          ],
          "name": "stdout"
        }
      ]
    },
    {
      "cell_type": "code",
      "metadata": {
        "id": "EY59Ra72quUb",
        "colab_type": "code",
        "colab": {
          "base_uri": "https://localhost:8080/",
          "height": 34
        },
        "outputId": "cae2906e-900b-40c9-de27-aa711893d710"
      },
      "source": [
        "from google.colab import files\n",
        "files.download('submission_file.csv.gz')"
      ],
      "execution_count": null,
      "outputs": [
        {
          "output_type": "display_data",
          "data": {
            "application/javascript": [
              "\n",
              "    async function download(id, filename, size) {\n",
              "      if (!google.colab.kernel.accessAllowed) {\n",
              "        return;\n",
              "      }\n",
              "      const div = document.createElement('div');\n",
              "      const label = document.createElement('label');\n",
              "      label.textContent = `Downloading \"${filename}\": `;\n",
              "      div.appendChild(label);\n",
              "      const progress = document.createElement('progress');\n",
              "      progress.max = size;\n",
              "      div.appendChild(progress);\n",
              "      document.body.appendChild(div);\n",
              "\n",
              "      const buffers = [];\n",
              "      let downloaded = 0;\n",
              "\n",
              "      const channel = await google.colab.kernel.comms.open(id);\n",
              "      // Send a message to notify the kernel that we're ready.\n",
              "      channel.send({})\n",
              "\n",
              "      for await (const message of channel.messages) {\n",
              "        // Send a message to notify the kernel that we're ready.\n",
              "        channel.send({})\n",
              "        if (message.buffers) {\n",
              "          for (const buffer of message.buffers) {\n",
              "            buffers.push(buffer);\n",
              "            downloaded += buffer.byteLength;\n",
              "            progress.value = downloaded;\n",
              "          }\n",
              "        }\n",
              "      }\n",
              "      const blob = new Blob(buffers, {type: 'application/binary'});\n",
              "      const a = document.createElement('a');\n",
              "      a.href = window.URL.createObjectURL(blob);\n",
              "      a.download = filename;\n",
              "      div.appendChild(a);\n",
              "      a.click();\n",
              "      div.remove();\n",
              "    }\n",
              "  "
            ],
            "text/plain": [
              "<IPython.core.display.Javascript object>"
            ]
          },
          "metadata": {
            "tags": []
          }
        },
        {
          "output_type": "display_data",
          "data": {
            "application/javascript": [
              "download(\"download_484a6450-9e92-4936-af69-339c7605b3fa\", \"submission_file.csv.gz\", 19531486)"
            ],
            "text/plain": [
              "<IPython.core.display.Javascript object>"
            ]
          },
          "metadata": {
            "tags": []
          }
        }
      ]
    },
    {
      "cell_type": "code",
      "metadata": {
        "id": "634kCqw4rHXG",
        "colab_type": "code",
        "colab": {}
      },
      "source": [
        ""
      ],
      "execution_count": null,
      "outputs": []
    }
  ]
}