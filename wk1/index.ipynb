{
  "nbformat": 4,
  "nbformat_minor": 0,
  "metadata": {
    "anaconda-cloud": {},
    "kernelspec": {
      "name": "python3",
      "display_name": "Python 3"
    },
    "colab": {
      "name": "index.ipynb",
      "provenance": [],
      "collapsed_sections": []
    }
  },
  "cells": [
    {
      "cell_type": "markdown",
      "metadata": {
        "id": "omkptp9JmayE",
        "colab_type": "text"
      },
      "source": [
        "# Measuring the Z boson mass\n",
        "\n",
        "\n",
        "Let's look at a sample of $Z$ boson candidates recorded by CMS in 2011 and published at CERN opendata portal. It comes from DoubleMuon dataset with the following selection applied:\n",
        "\n",
        "- Both muons are \"global\" muons\n",
        "- invariant mass sits in range: 60 GeV < $ M_{\\mu\\mu}$ < 120 GeV\n",
        "- |$\\eta$| < 2.1 for both muons\n",
        "- $p_{t}$ > 20 GeV\n",
        "\n",
        "The following columns presented in the CSV file:\n",
        "\n",
        "- `Run`, Event are the run and event numbers, respectively\n",
        "- `pt` is the transverse momentum $p_{t}$ of the muon\n",
        "- `eta` is the pseudorapidity of the muon: $\\eta$\n",
        "- `phi` is the $\\phi$ angle of the muon direction\n",
        "- `Q` is the charge of the muon\n",
        "- `dxy` is the impact parameter in the transverse plane: $d_{xy}$ - how distant is the track from the collision point\n",
        "- `iso` is the track isolation: $I_{track}$ - how many other tracks are there around given track"
      ]
    },
    {
      "cell_type": "code",
      "metadata": {
        "id": "IXp5wFf2m7SI",
        "colab_type": "code",
        "colab": {}
      },
      "source": [
        "import sys, os\n",
        "if 'google.colab' in sys.modules and not os.path.exists('.setup_complete'):\n",
        "    !wget -q https://raw.githubusercontent.com/hse-aml/hadron-collider-machine-learning/master/week1/Zmumu.csv -O ../Zmumu.csv\n",
        "    !wget -q https://raw.githubusercontent.com/hse-aml/hadron-collider-machine-learning/master/week1/grading.py -O ../grading.py\n",
        "\n",
        "    !touch .setup_complete"
      ],
      "execution_count": 2,
      "outputs": []
    },
    {
      "cell_type": "code",
      "metadata": {
        "id": "K_m-TWupn2Py",
        "colab_type": "code",
        "colab": {
          "base_uri": "https://localhost:8080/",
          "height": 185
        },
        "outputId": "787c75c6-e252-4772-ab16-e4fb1beb1d68"
      },
      "source": [
        "!ls .."
      ],
      "execution_count": 3,
      "outputs": [
        {
          "output_type": "stream",
          "text": [
            "bin\t\t\t\t\t   lib\t  srv\n",
            "boot\t\t\t\t\t   lib32  swift\n",
            "content\t\t\t\t\t   lib64  sys\n",
            "datalab\t\t\t\t\t   media  tensorflow-1.15.2\n",
            "dev\t\t\t\t\t   mnt\t  tmp\n",
            "dlib-19.18.0-cp27-cp27mu-linux_x86_64.whl  opt\t  tools\n",
            "dlib-19.18.0-cp36-cp36m-linux_x86_64.whl   proc   usr\n",
            "etc\t\t\t\t\t   root   var\n",
            "grading.py\t\t\t\t   run\t  Zmumu.csv\n",
            "home\t\t\t\t\t   sbin\n"
          ],
          "name": "stdout"
        }
      ]
    },
    {
      "cell_type": "code",
      "metadata": {
        "id": "_7MM0FOTpPHL",
        "colab_type": "code",
        "colab": {
          "base_uri": "https://localhost:8080/",
          "height": 218
        },
        "outputId": "c1093575-9643-46db-87a3-ea440cd50586"
      },
      "source": [
        "!pip install scikit-optimize"
      ],
      "execution_count": 4,
      "outputs": [
        {
          "output_type": "stream",
          "text": [
            "Collecting scikit-optimize\n",
            "\u001b[?25l  Downloading https://files.pythonhosted.org/packages/5c/87/310b52debfbc0cb79764e5770fa3f5c18f6f0754809ea9e2fc185e1b67d3/scikit_optimize-0.7.4-py2.py3-none-any.whl (80kB)\n",
            "\u001b[K     |████████████████████████████████| 81kB 2.3MB/s \n",
            "\u001b[?25hRequirement already satisfied: scipy>=0.18.0 in /usr/local/lib/python3.6/dist-packages (from scikit-optimize) (1.4.1)\n",
            "Requirement already satisfied: numpy>=1.11.0 in /usr/local/lib/python3.6/dist-packages (from scikit-optimize) (1.18.5)\n",
            "Requirement already satisfied: joblib>=0.11 in /usr/local/lib/python3.6/dist-packages (from scikit-optimize) (0.15.1)\n",
            "Requirement already satisfied: scikit-learn>=0.19.1 in /usr/local/lib/python3.6/dist-packages (from scikit-optimize) (0.22.2.post1)\n",
            "Collecting pyaml>=16.9\n",
            "  Downloading https://files.pythonhosted.org/packages/15/c4/1310a054d33abc318426a956e7d6df0df76a6ddfa9c66f6310274fb75d42/pyaml-20.4.0-py2.py3-none-any.whl\n",
            "Requirement already satisfied: PyYAML in /usr/local/lib/python3.6/dist-packages (from pyaml>=16.9->scikit-optimize) (3.13)\n",
            "Installing collected packages: pyaml, scikit-optimize\n",
            "Successfully installed pyaml-20.4.0 scikit-optimize-0.7.4\n"
          ],
          "name": "stdout"
        }
      ]
    },
    {
      "cell_type": "code",
      "metadata": {
        "id": "FUikP7dzmayG",
        "colab_type": "code",
        "colab": {}
      },
      "source": [
        "import numpy as np\n",
        "import pandas as pd\n",
        "import matplotlib.pyplot as plt\n",
        "from skopt import gp_minimize\n",
        "%matplotlib inline"
      ],
      "execution_count": 5,
      "outputs": []
    },
    {
      "cell_type": "markdown",
      "metadata": {
        "id": "GCj9eM4ImayL",
        "colab_type": "text"
      },
      "source": [
        "## Read dataset"
      ]
    },
    {
      "cell_type": "code",
      "metadata": {
        "id": "lp3q_2nxmayM",
        "colab_type": "code",
        "colab": {
          "base_uri": "https://localhost:8080/",
          "height": 34
        },
        "outputId": "cffa4d2e-6f65-45b7-daf8-5b7cba15e467"
      },
      "source": [
        "df = pd.read_csv('../Zmumu.csv')\n",
        "df.shape"
      ],
      "execution_count": 6,
      "outputs": [
        {
          "output_type": "execute_result",
          "data": {
            "text/plain": [
              "(10000, 14)"
            ]
          },
          "metadata": {
            "tags": []
          },
          "execution_count": 6
        }
      ]
    },
    {
      "cell_type": "code",
      "metadata": {
        "id": "_lVSaDVvktgj",
        "colab_type": "code",
        "colab": {
          "base_uri": "https://localhost:8080/",
          "height": 195
        },
        "outputId": "e4958ff3-a94d-48b9-c916-599148ec846e"
      },
      "source": [
        "df.head()"
      ],
      "execution_count": 7,
      "outputs": [
        {
          "output_type": "execute_result",
          "data": {
            "text/html": [
              "<div>\n",
              "<style scoped>\n",
              "    .dataframe tbody tr th:only-of-type {\n",
              "        vertical-align: middle;\n",
              "    }\n",
              "\n",
              "    .dataframe tbody tr th {\n",
              "        vertical-align: top;\n",
              "    }\n",
              "\n",
              "    .dataframe thead th {\n",
              "        text-align: right;\n",
              "    }\n",
              "</style>\n",
              "<table border=\"1\" class=\"dataframe\">\n",
              "  <thead>\n",
              "    <tr style=\"text-align: right;\">\n",
              "      <th></th>\n",
              "      <th>Run</th>\n",
              "      <th>Event</th>\n",
              "      <th>pt1</th>\n",
              "      <th>eta1</th>\n",
              "      <th>phi1</th>\n",
              "      <th>Q1</th>\n",
              "      <th>dxy1</th>\n",
              "      <th>iso1</th>\n",
              "      <th>pt2</th>\n",
              "      <th>eta2</th>\n",
              "      <th>phi2</th>\n",
              "      <th>Q2</th>\n",
              "      <th>dxy2</th>\n",
              "      <th>iso2</th>\n",
              "    </tr>\n",
              "  </thead>\n",
              "  <tbody>\n",
              "    <tr>\n",
              "      <th>0</th>\n",
              "      <td>165617</td>\n",
              "      <td>74969122</td>\n",
              "      <td>54.7055</td>\n",
              "      <td>-0.4324</td>\n",
              "      <td>2.5742</td>\n",
              "      <td>1</td>\n",
              "      <td>-0.0745</td>\n",
              "      <td>0.4999</td>\n",
              "      <td>34.2464</td>\n",
              "      <td>-0.9885</td>\n",
              "      <td>-0.4987</td>\n",
              "      <td>-1</td>\n",
              "      <td>0.0712</td>\n",
              "      <td>3.4221</td>\n",
              "    </tr>\n",
              "    <tr>\n",
              "      <th>1</th>\n",
              "      <td>165617</td>\n",
              "      <td>75138253</td>\n",
              "      <td>24.5872</td>\n",
              "      <td>-2.0522</td>\n",
              "      <td>2.8666</td>\n",
              "      <td>-1</td>\n",
              "      <td>-0.0554</td>\n",
              "      <td>0.0000</td>\n",
              "      <td>28.5389</td>\n",
              "      <td>0.3852</td>\n",
              "      <td>-1.9912</td>\n",
              "      <td>1</td>\n",
              "      <td>0.0515</td>\n",
              "      <td>0.0000</td>\n",
              "    </tr>\n",
              "    <tr>\n",
              "      <th>2</th>\n",
              "      <td>165617</td>\n",
              "      <td>75887636</td>\n",
              "      <td>31.7386</td>\n",
              "      <td>-2.2595</td>\n",
              "      <td>-1.3323</td>\n",
              "      <td>-1</td>\n",
              "      <td>0.0879</td>\n",
              "      <td>0.0000</td>\n",
              "      <td>30.2344</td>\n",
              "      <td>-0.4684</td>\n",
              "      <td>1.8833</td>\n",
              "      <td>1</td>\n",
              "      <td>-0.0876</td>\n",
              "      <td>0.0000</td>\n",
              "    </tr>\n",
              "    <tr>\n",
              "      <th>3</th>\n",
              "      <td>165617</td>\n",
              "      <td>75779415</td>\n",
              "      <td>39.7394</td>\n",
              "      <td>-0.7123</td>\n",
              "      <td>-0.3123</td>\n",
              "      <td>1</td>\n",
              "      <td>0.0585</td>\n",
              "      <td>0.0000</td>\n",
              "      <td>48.2790</td>\n",
              "      <td>-0.1956</td>\n",
              "      <td>2.9703</td>\n",
              "      <td>-1</td>\n",
              "      <td>-0.0492</td>\n",
              "      <td>0.0000</td>\n",
              "    </tr>\n",
              "    <tr>\n",
              "      <th>4</th>\n",
              "      <td>165617</td>\n",
              "      <td>75098104</td>\n",
              "      <td>41.2998</td>\n",
              "      <td>-0.1571</td>\n",
              "      <td>-3.0408</td>\n",
              "      <td>1</td>\n",
              "      <td>-0.0305</td>\n",
              "      <td>1.2280</td>\n",
              "      <td>43.4508</td>\n",
              "      <td>0.5910</td>\n",
              "      <td>-0.0428</td>\n",
              "      <td>-1</td>\n",
              "      <td>0.0442</td>\n",
              "      <td>0.0000</td>\n",
              "    </tr>\n",
              "  </tbody>\n",
              "</table>\n",
              "</div>"
            ],
            "text/plain": [
              "      Run     Event      pt1    eta1  ...    phi2  Q2    dxy2    iso2\n",
              "0  165617  74969122  54.7055 -0.4324  ... -0.4987  -1  0.0712  3.4221\n",
              "1  165617  75138253  24.5872 -2.0522  ... -1.9912   1  0.0515  0.0000\n",
              "2  165617  75887636  31.7386 -2.2595  ...  1.8833   1 -0.0876  0.0000\n",
              "3  165617  75779415  39.7394 -0.7123  ...  2.9703  -1 -0.0492  0.0000\n",
              "4  165617  75098104  41.2998 -0.1571  ... -0.0428  -1  0.0442  0.0000\n",
              "\n",
              "[5 rows x 14 columns]"
            ]
          },
          "metadata": {
            "tags": []
          },
          "execution_count": 7
        }
      ]
    },
    {
      "cell_type": "markdown",
      "metadata": {
        "id": "t8J97KU2mayQ",
        "colab_type": "text"
      },
      "source": [
        "Let's calculate the invariant mass $M$ of the two muons using the formula\n",
        "\n",
        "$M = \\sqrt{2p_{t}^{1}p_{t}^{2}(\\cosh(\\eta_{1}-\\eta_{2}) - \\cos(\\phi_{1}-\\phi_{2}))}$"
      ]
    },
    {
      "cell_type": "code",
      "metadata": {
        "id": "lrIW8WutmayQ",
        "colab_type": "code",
        "colab": {
          "base_uri": "https://localhost:8080/",
          "height": 106
        },
        "outputId": "25fef41f-8c3b-4144-83aa-133eb5917f83"
      },
      "source": [
        "df['M'] = np.sqrt(2 * df['pt1'] * df['pt2'] * (np.cosh(df['eta1'] - df['eta2']) - np.cos(df['phi1'] - df['phi2'])))\n",
        "df.head(2)"
      ],
      "execution_count": 8,
      "outputs": [
        {
          "output_type": "execute_result",
          "data": {
            "text/html": [
              "<div>\n",
              "<style scoped>\n",
              "    .dataframe tbody tr th:only-of-type {\n",
              "        vertical-align: middle;\n",
              "    }\n",
              "\n",
              "    .dataframe tbody tr th {\n",
              "        vertical-align: top;\n",
              "    }\n",
              "\n",
              "    .dataframe thead th {\n",
              "        text-align: right;\n",
              "    }\n",
              "</style>\n",
              "<table border=\"1\" class=\"dataframe\">\n",
              "  <thead>\n",
              "    <tr style=\"text-align: right;\">\n",
              "      <th></th>\n",
              "      <th>Run</th>\n",
              "      <th>Event</th>\n",
              "      <th>pt1</th>\n",
              "      <th>eta1</th>\n",
              "      <th>phi1</th>\n",
              "      <th>Q1</th>\n",
              "      <th>dxy1</th>\n",
              "      <th>iso1</th>\n",
              "      <th>pt2</th>\n",
              "      <th>eta2</th>\n",
              "      <th>phi2</th>\n",
              "      <th>Q2</th>\n",
              "      <th>dxy2</th>\n",
              "      <th>iso2</th>\n",
              "      <th>M</th>\n",
              "    </tr>\n",
              "  </thead>\n",
              "  <tbody>\n",
              "    <tr>\n",
              "      <th>0</th>\n",
              "      <td>165617</td>\n",
              "      <td>74969122</td>\n",
              "      <td>54.7055</td>\n",
              "      <td>-0.4324</td>\n",
              "      <td>2.5742</td>\n",
              "      <td>1</td>\n",
              "      <td>-0.0745</td>\n",
              "      <td>0.4999</td>\n",
              "      <td>34.2464</td>\n",
              "      <td>-0.9885</td>\n",
              "      <td>-0.4987</td>\n",
              "      <td>-1</td>\n",
              "      <td>0.0712</td>\n",
              "      <td>3.4221</td>\n",
              "      <td>89.885919</td>\n",
              "    </tr>\n",
              "    <tr>\n",
              "      <th>1</th>\n",
              "      <td>165617</td>\n",
              "      <td>75138253</td>\n",
              "      <td>24.5872</td>\n",
              "      <td>-2.0522</td>\n",
              "      <td>2.8666</td>\n",
              "      <td>-1</td>\n",
              "      <td>-0.0554</td>\n",
              "      <td>0.0000</td>\n",
              "      <td>28.5389</td>\n",
              "      <td>0.3852</td>\n",
              "      <td>-1.9912</td>\n",
              "      <td>1</td>\n",
              "      <td>0.0515</td>\n",
              "      <td>0.0000</td>\n",
              "      <td>88.812177</td>\n",
              "    </tr>\n",
              "  </tbody>\n",
              "</table>\n",
              "</div>"
            ],
            "text/plain": [
              "      Run     Event      pt1    eta1  ...  Q2    dxy2    iso2          M\n",
              "0  165617  74969122  54.7055 -0.4324  ...  -1  0.0712  3.4221  89.885919\n",
              "1  165617  75138253  24.5872 -2.0522  ...   1  0.0515  0.0000  88.812177\n",
              "\n",
              "[2 rows x 15 columns]"
            ]
          },
          "metadata": {
            "tags": []
          },
          "execution_count": 8
        }
      ]
    },
    {
      "cell_type": "markdown",
      "metadata": {
        "id": "jQAuQoegmayT",
        "colab_type": "text"
      },
      "source": [
        "# Model\n",
        "\n",
        "The distribution of the Z boson mass has the form of a normal distribution, in addition there is a noise. The distribution of the noise has an exponential form. Thus, the resulting model, it is a result of a superposition of two distributions - normal and polinomial"
      ]
    },
    {
      "cell_type": "markdown",
      "metadata": {
        "id": "zPugITcFmayU",
        "colab_type": "text"
      },
      "source": [
        "Let's plot the distribution of Z boson mass"
      ]
    },
    {
      "cell_type": "code",
      "metadata": {
        "id": "Rwvfzq6AmayU",
        "colab_type": "code",
        "colab": {}
      },
      "source": [
        "def plot_mass(mass, bins_count=100):\n",
        "    y, x = np.histogram(mass, bins=bins_count, density=False)\n",
        "    err = np.sqrt(y)\n",
        "\n",
        "    fig = plt.figure(figsize=(15,7))\n",
        "    plt.title('Z mass', fontsize=20)\n",
        "    plt.xlabel(\"$m_{\\mu\\mu}$ [GeV]\", fontsize=20)\n",
        "    plt.ylabel(\"Number of events\", fontsize=20)\n",
        "    plt.errorbar(x[:-1], y, yerr=err, fmt='o', color='red', ecolor='grey', capthick=0.5, zorder=1, label=\"data\")\n",
        "    return y, x"
      ],
      "execution_count": 9,
      "outputs": []
    },
    {
      "cell_type": "code",
      "metadata": {
        "id": "jawuH8i2mayZ",
        "colab_type": "code",
        "colab": {
          "base_uri": "https://localhost:8080/",
          "height": 479
        },
        "outputId": "abe0e9f9-0195-4e1f-89c9-c838894f1f17"
      },
      "source": [
        "plot_mass(df.M);"
      ],
      "execution_count": 10,
      "outputs": [
        {
          "output_type": "display_data",
          "data": {
            "image/png": "[encoded data removed]",
            "text/plain": [
              "<Figure size 1080x504 with 1 Axes>"
            ]
          },
          "metadata": {
            "tags": [],
            "needs_background": "light"
          }
        }
      ]
    },
    {
      "cell_type": "markdown",
      "metadata": {
        "id": "kLo6XP9Emayc",
        "colab_type": "text"
      },
      "source": [
        "## Exercise 1. clean up dataset a bit\n",
        "- demand that charge of muons should be opposite\n",
        "- $I_{track}$ < 3 and $d_{xy}$ < 0.2 cm"
      ]
    },
    {
      "cell_type": "code",
      "metadata": {
        "id": "lhqDytGdmayc",
        "colab_type": "code",
        "colab": {}
      },
      "source": [
        "### YOUR CODE GOES HERE ###\n",
        "df_sign = df[((df.Q1 > 0) & (df.Q2 < 0)) | ((df.Q1 < 0) & (df.Q2 > 0))]\n",
        "df_isolation = df_sign[(df_sign.iso1 < 3) & (df_sign.iso2 < 3) & (df_sign.dxy1.abs() < 0.2) & (df_sign.dxy2.abs() < 0.2)]\n",
        "df = df"
      ],
      "execution_count": 11,
      "outputs": []
    },
    {
      "cell_type": "code",
      "metadata": {
        "id": "mE-REg3mmOWO",
        "colab_type": "code",
        "colab": {
          "base_uri": "https://localhost:8080/",
          "height": 34
        },
        "outputId": "7af2a2b0-7388-4d8c-8593-bda50bdd1564"
      },
      "source": [
        "df.shape"
      ],
      "execution_count": 12,
      "outputs": [
        {
          "output_type": "execute_result",
          "data": {
            "text/plain": [
              "(10000, 15)"
            ]
          },
          "metadata": {
            "tags": []
          },
          "execution_count": 12
        }
      ]
    },
    {
      "cell_type": "code",
      "metadata": {
        "id": "Nawh_wq9mayf",
        "colab_type": "code",
        "colab": {
          "base_uri": "https://localhost:8080/",
          "height": 479
        },
        "outputId": "1a18d85a-e950-43da-de05-203ecfc00af2"
      },
      "source": [
        "plot_mass(df.M);"
      ],
      "execution_count": 13,
      "outputs": [
        {
          "output_type": "display_data",
          "data": {
            "image/png": "[encoded data removed]",
            "text/plain": [
              "<Figure size 1080x504 with 1 Axes>"
            ]
          },
          "metadata": {
            "tags": [],
            "needs_background": "light"
          }
        }
      ]
    },
    {
      "cell_type": "markdown",
      "metadata": {
        "id": "DMB7tIE8mayi",
        "colab_type": "text"
      },
      "source": [
        "### Let's define parametrised model\n",
        "it should represent mixture of 1) Gaussian signal and 2) background that for the simplicity we consider to be flat over mass. So it gives the following set of parameters:\n",
        "\n",
        "- m0 - center of the Gaussian\n",
        "- sigma - standard deviation of the Gaussian\n",
        "- ampl - height of the peak\n",
        "- bck - height of the background \n",
        "\n",
        "finding those parameters is called _fitting_ model into the data. It will be the goal for the rest of the exercise. For simplicity sake we'll stick with old good binned fit."
      ]
    },
    {
      "cell_type": "code",
      "metadata": {
        "id": "IwcwBbkrmayi",
        "colab_type": "code",
        "colab": {}
      },
      "source": [
        "def model_predict(params, X):\n",
        "    m0, sigma, ampl, bck = params\n",
        "    return bck + ampl / (sigma * np.sqrt(2 * np.pi)) * np.exp((-1) * (X - m0)**2 / (2 * sigma**2))"
      ],
      "execution_count": 14,
      "outputs": []
    },
    {
      "cell_type": "code",
      "metadata": {
        "id": "X-vExM6Imayl",
        "colab_type": "code",
        "colab": {}
      },
      "source": [
        "def model_loss(params, X, y):\n",
        "#     y, x = np.histogram(mass, bins=bins_count, density=False)\n",
        "#     residuals = model_predict(params, (x[1:] + x[:-1])/2) - y \n",
        "    residuals = y - model_predict(params, X)\n",
        "    return np.sum(residuals**2) / len(residuals)"
      ],
      "execution_count": 15,
      "outputs": []
    },
    {
      "cell_type": "code",
      "metadata": {
        "id": "h9333AOKmayp",
        "colab_type": "code",
        "colab": {}
      },
      "source": [
        "def plot_mass_with_model(params, mass, bins_count=100):\n",
        "    y, X = plot_mass(mass, bins_count=bins_count)\n",
        "    X = (X[1:] + X[:-1]) / 2\n",
        "    error = model_loss(params, X, y)\n",
        "    plt.plot(X, model_predict(params, X), color='blue', linewidth=3.0, zorder=2, label=\"fit, loss=%.2f\" % error)\n",
        "    plt.legend(fontsize='x-large')"
      ],
      "execution_count": 16,
      "outputs": []
    },
    {
      "cell_type": "markdown",
      "metadata": {
        "id": "VJFVIUtWmays",
        "colab_type": "text"
      },
      "source": [
        "## Here you can fit model parameters by hand"
      ]
    },
    {
      "cell_type": "code",
      "metadata": {
        "id": "xyIStUAFmays",
        "colab_type": "code",
        "colab": {
          "base_uri": "https://localhost:8080/",
          "height": 479
        },
        "outputId": "6b861db6-bf9a-4990-d8b9-5f4f669fb285"
      },
      "source": [
        "plot_mass_with_model((75, 5, 2300, 20), df.M)"
      ],
      "execution_count": 17,
      "outputs": [
        {
          "output_type": "display_data",
          "data": {
            "image/png": "[encoded data removed]",
            "text/plain": [
              "<Figure size 1080x504 with 1 Axes>"
            ]
          },
          "metadata": {
            "tags": [],
            "needs_background": "light"
          }
        }
      ]
    },
    {
      "cell_type": "markdown",
      "metadata": {
        "id": "9yKP8LfPmayv",
        "colab_type": "text"
      },
      "source": [
        "## ... but you can do it automatically of course"
      ]
    },
    {
      "cell_type": "markdown",
      "metadata": {
        "id": "Q7acEcyHmayv",
        "colab_type": "text"
      },
      "source": [
        "Setting up a scikit optimizer"
      ]
    },
    {
      "cell_type": "code",
      "metadata": {
        "id": "tKHU7wcWmayw",
        "colab_type": "code",
        "colab": {}
      },
      "source": [
        "from tqdm import tqdm\n",
        "from skopt import Optimizer\n",
        "\n",
        "search_space = [(90.0, 92.0), # m0 range\n",
        "    (1.5, 2.5), # sigma range\n",
        "    (3500, 4500), # amplitude range\n",
        "    (10, 20) # bck range\n",
        "    ]\n",
        "y, X = np.histogram(df.M, bins=120, density=False)\n",
        "X = (X[1:] + X[:-1]) / 2\n",
        "opt = Optimizer(search_space, base_estimator=\"GP\", acq_func=\"EI\", acq_optimizer=\"lbfgs\")"
      ],
      "execution_count": 89,
      "outputs": []
    },
    {
      "cell_type": "markdown",
      "metadata": {
        "id": "XrjueOl0mayz",
        "colab_type": "text"
      },
      "source": [
        "Running it for a while. You can re-run this cell several times"
      ]
    },
    {
      "cell_type": "code",
      "metadata": {
        "id": "6MO_ikBTmayz",
        "colab_type": "code",
        "colab": {
          "base_uri": "https://localhost:8080/",
          "height": 34
        },
        "outputId": "e6a1bdd1-ddf0-4782-c88b-82e244d7caf8"
      },
      "source": [
        "from skopt.utils import create_result\n",
        "for i in tqdm(range(50)):\n",
        "    next_x = opt.ask()\n",
        "    f_val = model_loss(next_x, X, y)\n",
        "    opt.tell(next_x, f_val)\n",
        "    \n",
        "res = create_result(Xi=opt.Xi, yi=opt.yi, space=opt.space,\n",
        "                         rng=opt.rng, models=opt.models)"
      ],
      "execution_count": 90,
      "outputs": [
        {
          "output_type": "stream",
          "text": [
            "100%|██████████| 50/50 [00:10<00:00,  4.96it/s]\n"
          ],
          "name": "stderr"
        }
      ]
    },
    {
      "cell_type": "markdown",
      "metadata": {
        "id": "QxIDsuPjmay2",
        "colab_type": "text"
      },
      "source": [
        "## A bit of search history"
      ]
    },
    {
      "cell_type": "code",
      "metadata": {
        "id": "p-mO945Xmay3",
        "colab_type": "code",
        "colab": {
          "base_uri": "https://localhost:8080/",
          "height": 314
        },
        "outputId": "2495f835-e3c9-4c5b-ad21-73194fe12e89"
      },
      "source": [
        "import skopt.plots\n",
        "skopt.plots.plot_convergence(res)\n",
        "print (list(zip([\"m0\", \"sigma\", \"ampl\", \"bck\"], res.x)))"
      ],
      "execution_count": 91,
      "outputs": [
        {
          "output_type": "stream",
          "text": [
            "[('m0', 90.90824302431004), ('sigma', 2.207299897503987), ('ampl', 3692), ('bck', 16)]\n"
          ],
          "name": "stdout"
        },
        {
          "output_type": "display_data",
          "data": {
            "image/png": "[encoded data removed]",
            "text/plain": [
              "<Figure size 432x288 with 1 Axes>"
            ]
          },
          "metadata": {
            "tags": [],
            "needs_background": "light"
          }
        }
      ]
    },
    {
      "cell_type": "code",
      "metadata": {
        "id": "kLZ2OZB-may7",
        "colab_type": "code",
        "colab": {}
      },
      "source": [
        "# even more details on the search space\n",
        "# skopt.plots.plot_objective(res, dimensions=['m0', 'sigma', 'ampl', 'bck'])\n"
      ],
      "execution_count": 92,
      "outputs": []
    },
    {
      "cell_type": "markdown",
      "metadata": {
        "id": "8yoC_8cemay-",
        "colab_type": "text"
      },
      "source": [
        "Let's see how well the prediction fits the data"
      ]
    },
    {
      "cell_type": "code",
      "metadata": {
        "id": "WmUW9KuGmay-",
        "colab_type": "code",
        "colab": {
          "base_uri": "https://localhost:8080/",
          "height": 479
        },
        "outputId": "0bf24cfa-e9d1-48b4-afb3-b343b253cc63"
      },
      "source": [
        "plot_mass_with_model(res.x, df.M, bins_count=120)"
      ],
      "execution_count": 93,
      "outputs": [
        {
          "output_type": "display_data",
          "data": {
            "image/png": "[encoded data removed]",
            "text/plain": [
              "<Figure size 1080x504 with 1 Axes>"
            ]
          },
          "metadata": {
            "tags": [],
            "needs_background": "light"
          }
        }
      ]
    },
    {
      "cell_type": "code",
      "metadata": {
        "id": "E_UtarNzmazB",
        "colab_type": "code",
        "colab": {}
      },
      "source": [
        "# token expires every 30 min\n",
        "COURSERA_TOKEN = \"rCkgYy9wn7qdoESu\"### YOUR TOKEN HERE\n",
        "COURSERA_EMAIL = \"\"### YOUR EMAIL HERE"
      ],
      "execution_count": 94,
      "outputs": []
    },
    {
      "cell_type": "code",
      "metadata": {
        "id": "vW8mU5FzpPud",
        "colab_type": "code",
        "colab": {}
      },
      "source": [
        " !wget -q https://raw.githubusercontent.com/hse-aml/hadron-collider-machine-learning/master/week1/grading.py -O grading.py"
      ],
      "execution_count": 95,
      "outputs": []
    },
    {
      "cell_type": "markdown",
      "metadata": {
        "id": "MzFMMAUSmazG",
        "colab_type": "text"
      },
      "source": [
        "## Grader part, do not change, please"
      ]
    },
    {
      "cell_type": "code",
      "metadata": {
        "id": "R3KaGY2tmazG",
        "colab_type": "code",
        "colab": {}
      },
      "source": [
        "import grading\n",
        "grader = grading.Grader(assignment_key=\"SeMsm2JfEeiyvBKA0wfIgA\", \n",
        "                      all_parts=[\"VI3xu\", \"VuE8x\", \"KzmMV\", \"TwZBF\"])\n"
      ],
      "execution_count": 96,
      "outputs": []
    },
    {
      "cell_type": "code",
      "metadata": {
        "id": "3-pvlHv2mazK",
        "colab_type": "code",
        "colab": {
          "base_uri": "https://localhost:8080/",
          "height": 34
        },
        "outputId": "cd474128-0ea9-490e-dd34-db458f2682cb"
      },
      "source": [
        "ans_part1 = round(res.x[0])\n",
        "grader.set_answer(\"VI3xu\", ans_part1)\n",
        "\n",
        "ans_part2 = round(res.x[1], 2)\n",
        "grader.set_answer(\"VuE8x\", ans_part2)\n",
        "\n",
        "ans_part3 = round(res.x[3])\n",
        "grader.set_answer(\"KzmMV\", ans_part3)\n",
        "\n",
        "ans_part4 = round(res.x[2])\n",
        "grader.set_answer(\"TwZBF\", ans_part4)\n",
        "\n",
        "grader.submit(COURSERA_EMAIL, COURSERA_TOKEN)"
      ],
      "execution_count": 97,
      "outputs": [
        {
          "output_type": "stream",
          "text": [
            "Submitted to Coursera platform. See results on assignment page!\n"
          ],
          "name": "stdout"
        }
      ]
    },
    {
      "cell_type": "code",
      "metadata": {
        "id": "FfLT6usspTK9",
        "colab_type": "code",
        "colab": {}
      },
      "source": [
        ""
      ],
      "execution_count": null,
      "outputs": []
    }
  ]
}